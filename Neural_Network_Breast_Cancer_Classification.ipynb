{
  "nbformat": 4,
  "nbformat_minor": 0,
  "metadata": {
    "colab": {
      "name": "GPU TensorFlow.ipynb",
      "provenance": [],
      "collapsed_sections": [],
      "authorship_tag": "ABX9TyOk2lXhOsKZOjHOGBm3LWiy",
      "include_colab_link": true
    },
    "kernelspec": {
      "name": "python3",
      "display_name": "Python 3"
    },
    "accelerator": "GPU"
  },
  "cells": [
    {
      "cell_type": "markdown",
      "metadata": {
        "id": "view-in-github",
        "colab_type": "text"
      },
      "source": [
        "<a href=\"https://colab.research.google.com/github/nicocrozier/NeuralNetworkBreastCancerClassification/blob/master/Neural_Network_Breast_Cancer_Classification.ipynb\" target=\"_parent\"><img src=\"https://colab.research.google.com/assets/colab-badge.svg\" alt=\"Open In Colab\"/></a>"
      ]
    },
    {
      "cell_type": "code",
      "metadata": {
        "id": "nGDIb3EkM3Kv",
        "colab_type": "code",
        "colab": {
          "base_uri": "https://localhost:8080/",
          "height": 749
        },
        "outputId": "18458da7-039e-4aa5-903e-93df00167703"
      },
      "source": [
        "!pip install tensorflow-gpu\n"
      ],
      "execution_count": null,
      "outputs": [
        {
          "output_type": "stream",
          "text": [
            "Collecting tensorflow-gpu\n",
            "\u001b[?25l  Downloading https://files.pythonhosted.org/packages/0f/11/763f55d3d15efd778ef24453f126e6c33635680e5a2bb346da3fab5997cb/tensorflow_gpu-2.3.0-cp36-cp36m-manylinux2010_x86_64.whl (320.4MB)\n",
            "\u001b[K     |████████████████████████████████| 320.4MB 48kB/s \n",
            "\u001b[?25hRequirement already satisfied: wheel>=0.26 in /usr/local/lib/python3.6/dist-packages (from tensorflow-gpu) (0.34.2)\n",
            "Requirement already satisfied: grpcio>=1.8.6 in /usr/local/lib/python3.6/dist-packages (from tensorflow-gpu) (1.31.0)\n",
            "Requirement already satisfied: astunparse==1.6.3 in /usr/local/lib/python3.6/dist-packages (from tensorflow-gpu) (1.6.3)\n",
            "Requirement already satisfied: scipy==1.4.1 in /usr/local/lib/python3.6/dist-packages (from tensorflow-gpu) (1.4.1)\n",
            "Requirement already satisfied: tensorboard<3,>=2.3.0 in /usr/local/lib/python3.6/dist-packages (from tensorflow-gpu) (2.3.0)\n",
            "Requirement already satisfied: six>=1.12.0 in /usr/local/lib/python3.6/dist-packages (from tensorflow-gpu) (1.15.0)\n",
            "Requirement already satisfied: absl-py>=0.7.0 in /usr/local/lib/python3.6/dist-packages (from tensorflow-gpu) (0.9.0)\n",
            "Requirement already satisfied: keras-preprocessing<1.2,>=1.1.1 in /usr/local/lib/python3.6/dist-packages (from tensorflow-gpu) (1.1.2)\n",
            "Requirement already satisfied: google-pasta>=0.1.8 in /usr/local/lib/python3.6/dist-packages (from tensorflow-gpu) (0.2.0)\n",
            "Requirement already satisfied: opt-einsum>=2.3.2 in /usr/local/lib/python3.6/dist-packages (from tensorflow-gpu) (3.3.0)\n",
            "Requirement already satisfied: protobuf>=3.9.2 in /usr/local/lib/python3.6/dist-packages (from tensorflow-gpu) (3.12.4)\n",
            "Requirement already satisfied: gast==0.3.3 in /usr/local/lib/python3.6/dist-packages (from tensorflow-gpu) (0.3.3)\n",
            "Requirement already satisfied: wrapt>=1.11.1 in /usr/local/lib/python3.6/dist-packages (from tensorflow-gpu) (1.12.1)\n",
            "Requirement already satisfied: termcolor>=1.1.0 in /usr/local/lib/python3.6/dist-packages (from tensorflow-gpu) (1.1.0)\n",
            "Requirement already satisfied: numpy<1.19.0,>=1.16.0 in /usr/local/lib/python3.6/dist-packages (from tensorflow-gpu) (1.18.5)\n",
            "Requirement already satisfied: h5py<2.11.0,>=2.10.0 in /usr/local/lib/python3.6/dist-packages (from tensorflow-gpu) (2.10.0)\n",
            "Requirement already satisfied: tensorflow-estimator<2.4.0,>=2.3.0 in /usr/local/lib/python3.6/dist-packages (from tensorflow-gpu) (2.3.0)\n",
            "Requirement already satisfied: google-auth-oauthlib<0.5,>=0.4.1 in /usr/local/lib/python3.6/dist-packages (from tensorboard<3,>=2.3.0->tensorflow-gpu) (0.4.1)\n",
            "Requirement already satisfied: werkzeug>=0.11.15 in /usr/local/lib/python3.6/dist-packages (from tensorboard<3,>=2.3.0->tensorflow-gpu) (1.0.1)\n",
            "Requirement already satisfied: requests<3,>=2.21.0 in /usr/local/lib/python3.6/dist-packages (from tensorboard<3,>=2.3.0->tensorflow-gpu) (2.23.0)\n",
            "Requirement already satisfied: tensorboard-plugin-wit>=1.6.0 in /usr/local/lib/python3.6/dist-packages (from tensorboard<3,>=2.3.0->tensorflow-gpu) (1.7.0)\n",
            "Requirement already satisfied: setuptools>=41.0.0 in /usr/local/lib/python3.6/dist-packages (from tensorboard<3,>=2.3.0->tensorflow-gpu) (49.2.0)\n",
            "Requirement already satisfied: markdown>=2.6.8 in /usr/local/lib/python3.6/dist-packages (from tensorboard<3,>=2.3.0->tensorflow-gpu) (3.2.2)\n",
            "Requirement already satisfied: google-auth<2,>=1.6.3 in /usr/local/lib/python3.6/dist-packages (from tensorboard<3,>=2.3.0->tensorflow-gpu) (1.17.2)\n",
            "Requirement already satisfied: requests-oauthlib>=0.7.0 in /usr/local/lib/python3.6/dist-packages (from google-auth-oauthlib<0.5,>=0.4.1->tensorboard<3,>=2.3.0->tensorflow-gpu) (1.3.0)\n",
            "Requirement already satisfied: idna<3,>=2.5 in /usr/local/lib/python3.6/dist-packages (from requests<3,>=2.21.0->tensorboard<3,>=2.3.0->tensorflow-gpu) (2.10)\n",
            "Requirement already satisfied: urllib3!=1.25.0,!=1.25.1,<1.26,>=1.21.1 in /usr/local/lib/python3.6/dist-packages (from requests<3,>=2.21.0->tensorboard<3,>=2.3.0->tensorflow-gpu) (1.24.3)\n",
            "Requirement already satisfied: certifi>=2017.4.17 in /usr/local/lib/python3.6/dist-packages (from requests<3,>=2.21.0->tensorboard<3,>=2.3.0->tensorflow-gpu) (2020.6.20)\n",
            "Requirement already satisfied: chardet<4,>=3.0.2 in /usr/local/lib/python3.6/dist-packages (from requests<3,>=2.21.0->tensorboard<3,>=2.3.0->tensorflow-gpu) (3.0.4)\n",
            "Requirement already satisfied: importlib-metadata; python_version < \"3.8\" in /usr/local/lib/python3.6/dist-packages (from markdown>=2.6.8->tensorboard<3,>=2.3.0->tensorflow-gpu) (1.7.0)\n",
            "Requirement already satisfied: pyasn1-modules>=0.2.1 in /usr/local/lib/python3.6/dist-packages (from google-auth<2,>=1.6.3->tensorboard<3,>=2.3.0->tensorflow-gpu) (0.2.8)\n",
            "Requirement already satisfied: cachetools<5.0,>=2.0.0 in /usr/local/lib/python3.6/dist-packages (from google-auth<2,>=1.6.3->tensorboard<3,>=2.3.0->tensorflow-gpu) (4.1.1)\n",
            "Requirement already satisfied: rsa<5,>=3.1.4; python_version >= \"3\" in /usr/local/lib/python3.6/dist-packages (from google-auth<2,>=1.6.3->tensorboard<3,>=2.3.0->tensorflow-gpu) (4.6)\n",
            "Requirement already satisfied: oauthlib>=3.0.0 in /usr/local/lib/python3.6/dist-packages (from requests-oauthlib>=0.7.0->google-auth-oauthlib<0.5,>=0.4.1->tensorboard<3,>=2.3.0->tensorflow-gpu) (3.1.0)\n",
            "Requirement already satisfied: zipp>=0.5 in /usr/local/lib/python3.6/dist-packages (from importlib-metadata; python_version < \"3.8\"->markdown>=2.6.8->tensorboard<3,>=2.3.0->tensorflow-gpu) (3.1.0)\n",
            "Requirement already satisfied: pyasn1<0.5.0,>=0.4.6 in /usr/local/lib/python3.6/dist-packages (from pyasn1-modules>=0.2.1->google-auth<2,>=1.6.3->tensorboard<3,>=2.3.0->tensorflow-gpu) (0.4.8)\n",
            "Installing collected packages: tensorflow-gpu\n",
            "Successfully installed tensorflow-gpu-2.3.0\n"
          ],
          "name": "stdout"
        }
      ]
    },
    {
      "cell_type": "code",
      "metadata": {
        "id": "qrnYtoICNRA0",
        "colab_type": "code",
        "colab": {
          "resources": {
            "http://localhost:8080/nbextensions/google.colab/files.js": {
              "data": "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",
              "ok": true,
              "headers": [
                [
                  "content-type",
                  "application/javascript"
                ]
              ],
              "status": 200,
              "status_text": "OK"
            }
          },
          "base_uri": "https://localhost:8080/",
          "height": 174
        },
        "outputId": "3fcb8ba5-6cca-4f8d-d20e-81b366e86d67"
      },
      "source": [
        "import pandas as pd\n",
        "\n",
        "from google.colab import files\n",
        "file = files.upload()\n",
        "x_train = pd.read_csv(\"xtrain.csv\", header=None)\n",
        "y_train = pd.read_csv(\"ytrain.csv\", header=None)\n",
        "x_test = pd.read_csv(\"xtest.csv\", header=None)\n",
        "y_test = pd.read_csv(\"ytest.csv\", header=None)"
      ],
      "execution_count": null,
      "outputs": [
        {
          "output_type": "display_data",
          "data": {
            "text/html": [
              "\n",
              "     <input type=\"file\" id=\"files-a407ea3d-9a32-4147-ba44-8495af967f82\" name=\"files[]\" multiple disabled\n",
              "        style=\"border:none\" />\n",
              "     <output id=\"result-a407ea3d-9a32-4147-ba44-8495af967f82\">\n",
              "      Upload widget is only available when the cell has been executed in the\n",
              "      current browser session. Please rerun this cell to enable.\n",
              "      </output>\n",
              "      <script src=\"/nbextensions/google.colab/files.js\"></script> "
            ],
            "text/plain": [
              "<IPython.core.display.HTML object>"
            ]
          },
          "metadata": {
            "tags": []
          }
        },
        {
          "output_type": "stream",
          "text": [
            "Saving xtest.csv to xtest.csv\n",
            "Saving xtrain.csv to xtrain.csv\n",
            "Saving ytest.csv to ytest.csv\n",
            "Saving ytrain.csv to ytrain.csv\n"
          ],
          "name": "stdout"
        }
      ]
    },
    {
      "cell_type": "markdown",
      "metadata": {
        "id": "qns11qGVaLvZ",
        "colab_type": "text"
      },
      "source": [
        "<b>Keras Neural Net</b>\n",
        "<p>Using Keras to define a neural net that will be trained off of the cancer data. Can be used to predict future values for breast cancer presence. Input dimention of \"30\" since the data has 30 features</p>\n"
      ]
    },
    {
      "cell_type": "code",
      "metadata": {
        "id": "AFGPvcOmO5WO",
        "colab_type": "code",
        "colab": {}
      },
      "source": [
        "from keras.models import Sequential\n",
        "from keras.layers import Dense\n",
        "\n",
        "classifier = Sequential() #This is the Neural Net\n",
        "\n",
        "classifier.add(Dense(units = 16, activation = 'relu', input_dim = 30))\n",
        "classifier.add(Dense(units = 8, activation = 'relu'))\n",
        "classifier.add(Dense(units = 6, activation = 'relu'))\n",
        "classifier.add(Dense(units = 1, activation = 'sigmoid'))\n",
        "\n"
      ],
      "execution_count": null,
      "outputs": []
    },
    {
      "cell_type": "markdown",
      "metadata": {
        "id": "F9_FiZNuetMv",
        "colab_type": "text"
      },
      "source": [
        " Specify the optimier and loss function"
      ]
    },
    {
      "cell_type": "code",
      "metadata": {
        "id": "F87Md-30agL3",
        "colab_type": "code",
        "colab": {}
      },
      "source": [
        "classifier.compile(optimizer = 'rmsprop', loss = 'binary_crossentropy')"
      ],
      "execution_count": null,
      "outputs": []
    },
    {
      "cell_type": "markdown",
      "metadata": {
        "id": "qKnbyl5ilHA9",
        "colab_type": "text"
      },
      "source": [
        "Training itself happens in this fit function. using classifier.fit. The neural net will spot the patterns in the data and build a neural net that can replicate it. epochs = how many times it loops. Making a guess at the relationship between the x's and y's meausres how bad it does using the loss function. Then improves using the optimizer."
      ]
    },
    {
      "cell_type": "code",
      "metadata": {
        "id": "6QAeSOJqlfJJ",
        "colab_type": "code",
        "colab": {
          "base_uri": "https://localhost:8080/",
          "height": 1000
        },
        "outputId": "976fdadd-93e2-4c52-fa45-f07377137903"
      },
      "source": [
        "classifier.fit(x_train, y_train, batch_size = 1, epochs = 100)"
      ],
      "execution_count": null,
      "outputs": [
        {
          "output_type": "stream",
          "text": [
            "Epoch 1/100\n",
            "455/455 [==============================] - 1s 2ms/step - loss: 0.0484\n",
            "Epoch 2/100\n",
            "455/455 [==============================] - 1s 2ms/step - loss: 0.0614\n",
            "Epoch 3/100\n",
            "455/455 [==============================] - 1s 2ms/step - loss: 0.0534\n",
            "Epoch 4/100\n",
            "455/455 [==============================] - 1s 2ms/step - loss: 0.0535\n",
            "Epoch 5/100\n",
            "455/455 [==============================] - 1s 2ms/step - loss: 0.0553\n",
            "Epoch 6/100\n",
            "455/455 [==============================] - 1s 2ms/step - loss: 0.0539\n",
            "Epoch 7/100\n",
            "455/455 [==============================] - 1s 2ms/step - loss: 0.0504\n",
            "Epoch 8/100\n",
            "455/455 [==============================] - 1s 2ms/step - loss: 0.0560\n",
            "Epoch 9/100\n",
            "455/455 [==============================] - 1s 2ms/step - loss: 0.0626\n",
            "Epoch 10/100\n",
            "455/455 [==============================] - 1s 2ms/step - loss: 0.0556\n",
            "Epoch 11/100\n",
            "455/455 [==============================] - 1s 2ms/step - loss: 0.0538\n",
            "Epoch 12/100\n",
            "455/455 [==============================] - 1s 2ms/step - loss: 0.0521\n",
            "Epoch 13/100\n",
            "455/455 [==============================] - 1s 2ms/step - loss: 0.0457\n",
            "Epoch 14/100\n",
            "455/455 [==============================] - 1s 2ms/step - loss: 0.0630\n",
            "Epoch 15/100\n",
            "455/455 [==============================] - 1s 2ms/step - loss: 0.0529\n",
            "Epoch 16/100\n",
            "455/455 [==============================] - 1s 2ms/step - loss: 0.0458\n",
            "Epoch 17/100\n",
            "455/455 [==============================] - 1s 2ms/step - loss: 0.0437\n",
            "Epoch 18/100\n",
            "455/455 [==============================] - 1s 2ms/step - loss: 0.0610\n",
            "Epoch 19/100\n",
            "455/455 [==============================] - 1s 2ms/step - loss: 0.0597\n",
            "Epoch 20/100\n",
            "455/455 [==============================] - 1s 2ms/step - loss: 0.0611\n",
            "Epoch 21/100\n",
            "455/455 [==============================] - 1s 2ms/step - loss: 0.0532\n",
            "Epoch 22/100\n",
            "455/455 [==============================] - 1s 2ms/step - loss: 0.0513\n",
            "Epoch 23/100\n",
            "455/455 [==============================] - 1s 2ms/step - loss: 0.0564\n",
            "Epoch 24/100\n",
            "455/455 [==============================] - 1s 2ms/step - loss: 0.0715\n",
            "Epoch 25/100\n",
            "455/455 [==============================] - 1s 2ms/step - loss: 0.0625\n",
            "Epoch 26/100\n",
            "455/455 [==============================] - 1s 2ms/step - loss: 0.0533\n",
            "Epoch 27/100\n",
            "455/455 [==============================] - 1s 2ms/step - loss: 0.0525\n",
            "Epoch 28/100\n",
            "455/455 [==============================] - 1s 2ms/step - loss: 0.0494\n",
            "Epoch 29/100\n",
            "455/455 [==============================] - 1s 2ms/step - loss: 0.0588\n",
            "Epoch 30/100\n",
            "455/455 [==============================] - 1s 2ms/step - loss: 0.0506\n",
            "Epoch 31/100\n",
            "455/455 [==============================] - 1s 2ms/step - loss: 0.0600\n",
            "Epoch 32/100\n",
            "455/455 [==============================] - 1s 2ms/step - loss: 0.0502\n",
            "Epoch 33/100\n",
            "455/455 [==============================] - 1s 2ms/step - loss: 0.0449\n",
            "Epoch 34/100\n",
            "455/455 [==============================] - 1s 2ms/step - loss: 0.0642\n",
            "Epoch 35/100\n",
            "455/455 [==============================] - 1s 2ms/step - loss: 0.0536\n",
            "Epoch 36/100\n",
            "455/455 [==============================] - 1s 2ms/step - loss: 0.0544\n",
            "Epoch 37/100\n",
            "455/455 [==============================] - 1s 2ms/step - loss: 0.0539\n",
            "Epoch 38/100\n",
            "455/455 [==============================] - 1s 2ms/step - loss: 0.0504\n",
            "Epoch 39/100\n",
            "455/455 [==============================] - 1s 2ms/step - loss: 0.0599\n",
            "Epoch 40/100\n",
            "455/455 [==============================] - 1s 2ms/step - loss: 0.0508\n",
            "Epoch 41/100\n",
            "455/455 [==============================] - 1s 2ms/step - loss: 0.0650\n",
            "Epoch 42/100\n",
            "455/455 [==============================] - 1s 2ms/step - loss: 0.0548\n",
            "Epoch 43/100\n",
            "455/455 [==============================] - 1s 2ms/step - loss: 0.0579\n",
            "Epoch 44/100\n",
            "455/455 [==============================] - 1s 2ms/step - loss: 0.0513\n",
            "Epoch 45/100\n",
            "455/455 [==============================] - 1s 2ms/step - loss: 0.0449\n",
            "Epoch 46/100\n",
            "455/455 [==============================] - 1s 2ms/step - loss: 0.0535\n",
            "Epoch 47/100\n",
            "455/455 [==============================] - 1s 2ms/step - loss: 0.0518\n",
            "Epoch 48/100\n",
            "455/455 [==============================] - 1s 2ms/step - loss: 0.0528\n",
            "Epoch 49/100\n",
            "455/455 [==============================] - 1s 2ms/step - loss: 0.0517\n",
            "Epoch 50/100\n",
            "455/455 [==============================] - 1s 2ms/step - loss: 0.0523\n",
            "Epoch 51/100\n",
            "455/455 [==============================] - 1s 2ms/step - loss: 0.0463\n",
            "Epoch 52/100\n",
            "455/455 [==============================] - 1s 2ms/step - loss: 0.0458\n",
            "Epoch 53/100\n",
            "455/455 [==============================] - 1s 2ms/step - loss: 0.0439\n",
            "Epoch 54/100\n",
            "455/455 [==============================] - 1s 2ms/step - loss: 0.0510\n",
            "Epoch 55/100\n",
            "455/455 [==============================] - 1s 2ms/step - loss: 0.0475\n",
            "Epoch 56/100\n",
            "455/455 [==============================] - 1s 2ms/step - loss: 0.0471\n",
            "Epoch 57/100\n",
            "455/455 [==============================] - 1s 2ms/step - loss: 0.0491\n",
            "Epoch 58/100\n",
            "455/455 [==============================] - 1s 2ms/step - loss: 0.0441\n",
            "Epoch 59/100\n",
            "455/455 [==============================] - 1s 2ms/step - loss: 0.0465\n",
            "Epoch 60/100\n",
            "455/455 [==============================] - 1s 2ms/step - loss: 0.0399\n",
            "Epoch 61/100\n",
            "455/455 [==============================] - 1s 2ms/step - loss: 0.0452\n",
            "Epoch 62/100\n",
            "455/455 [==============================] - 1s 2ms/step - loss: 0.0421\n",
            "Epoch 63/100\n",
            "455/455 [==============================] - 1s 2ms/step - loss: 0.0456\n",
            "Epoch 64/100\n",
            "455/455 [==============================] - 1s 2ms/step - loss: 0.0439\n",
            "Epoch 65/100\n",
            "455/455 [==============================] - 1s 2ms/step - loss: 0.0418\n",
            "Epoch 66/100\n",
            "455/455 [==============================] - 1s 2ms/step - loss: 0.0490\n",
            "Epoch 67/100\n",
            "455/455 [==============================] - 1s 2ms/step - loss: 0.0433\n",
            "Epoch 68/100\n",
            "455/455 [==============================] - 1s 2ms/step - loss: 0.0484\n",
            "Epoch 69/100\n",
            "455/455 [==============================] - 1s 2ms/step - loss: 0.0385\n",
            "Epoch 70/100\n",
            "455/455 [==============================] - 1s 2ms/step - loss: 0.0452\n",
            "Epoch 71/100\n",
            "455/455 [==============================] - 1s 2ms/step - loss: 0.0403\n",
            "Epoch 72/100\n",
            "455/455 [==============================] - 1s 2ms/step - loss: 0.0369\n",
            "Epoch 73/100\n",
            "455/455 [==============================] - 1s 2ms/step - loss: 0.0337\n",
            "Epoch 74/100\n",
            "455/455 [==============================] - 1s 2ms/step - loss: 0.0354\n",
            "Epoch 75/100\n",
            "455/455 [==============================] - 1s 2ms/step - loss: 0.0291\n",
            "Epoch 76/100\n",
            "455/455 [==============================] - 1s 2ms/step - loss: 0.0513\n",
            "Epoch 77/100\n",
            "455/455 [==============================] - 1s 2ms/step - loss: 0.0455\n",
            "Epoch 78/100\n",
            "455/455 [==============================] - 1s 2ms/step - loss: 0.0407\n",
            "Epoch 79/100\n",
            "455/455 [==============================] - 1s 2ms/step - loss: 0.0387\n",
            "Epoch 80/100\n",
            "455/455 [==============================] - 1s 2ms/step - loss: 0.0389\n",
            "Epoch 81/100\n",
            "455/455 [==============================] - 1s 2ms/step - loss: 0.0482\n",
            "Epoch 82/100\n",
            "455/455 [==============================] - 1s 2ms/step - loss: 0.0382\n",
            "Epoch 83/100\n",
            "455/455 [==============================] - 1s 2ms/step - loss: 0.0479\n",
            "Epoch 84/100\n",
            "455/455 [==============================] - 1s 2ms/step - loss: 0.0394\n",
            "Epoch 85/100\n",
            "455/455 [==============================] - 1s 2ms/step - loss: 0.0433\n",
            "Epoch 86/100\n",
            "455/455 [==============================] - 1s 2ms/step - loss: 0.0513\n",
            "Epoch 87/100\n",
            "455/455 [==============================] - 1s 2ms/step - loss: 0.0450\n",
            "Epoch 88/100\n",
            "455/455 [==============================] - 1s 2ms/step - loss: 0.0427\n",
            "Epoch 89/100\n",
            "455/455 [==============================] - 1s 2ms/step - loss: 0.0404\n",
            "Epoch 90/100\n",
            "455/455 [==============================] - 1s 2ms/step - loss: 0.0434\n",
            "Epoch 91/100\n",
            "455/455 [==============================] - 1s 2ms/step - loss: 0.0388\n",
            "Epoch 92/100\n",
            "455/455 [==============================] - 1s 2ms/step - loss: 0.0384\n",
            "Epoch 93/100\n",
            "455/455 [==============================] - 1s 2ms/step - loss: 0.0374\n",
            "Epoch 94/100\n",
            "455/455 [==============================] - 1s 2ms/step - loss: 0.0381\n",
            "Epoch 95/100\n",
            "455/455 [==============================] - 1s 2ms/step - loss: 0.0362\n",
            "Epoch 96/100\n",
            "455/455 [==============================] - 1s 2ms/step - loss: 0.0387\n",
            "Epoch 97/100\n",
            "455/455 [==============================] - 1s 2ms/step - loss: 0.0408\n",
            "Epoch 98/100\n",
            "455/455 [==============================] - 1s 2ms/step - loss: 0.0380\n",
            "Epoch 99/100\n",
            "455/455 [==============================] - 1s 2ms/step - loss: 0.0459\n",
            "Epoch 100/100\n",
            "455/455 [==============================] - 1s 2ms/step - loss: 0.0371\n"
          ],
          "name": "stdout"
        },
        {
          "output_type": "execute_result",
          "data": {
            "text/plain": [
              "<tensorflow.python.keras.callbacks.History at 0x7f765230add8>"
            ]
          },
          "metadata": {
            "tags": []
          },
          "execution_count": 6
        }
      ]
    },
    {
      "cell_type": "markdown",
      "metadata": {
        "id": "YJm6Si9doVhs",
        "colab_type": "text"
      },
      "source": [
        "<b>Test the network.</b>\n",
        "Testing the network with new, unseen data."
      ]
    },
    {
      "cell_type": "code",
      "metadata": {
        "id": "wS8KysLnqLUy",
        "colab_type": "code",
        "colab": {}
      },
      "source": [
        "y_predict = classifier.predict(x_test)\n",
        "y_predict = [ 1 if y>0.5 else 0 for y in y_predict ]"
      ],
      "execution_count": null,
      "outputs": []
    },
    {
      "cell_type": "markdown",
      "metadata": {
        "id": "SkJs6C5uqjJS",
        "colab_type": "text"
      },
      "source": [
        "<b>Looping through the set</b>"
      ]
    },
    {
      "cell_type": "code",
      "metadata": {
        "id": "BEV_tPV4qepJ",
        "colab_type": "code",
        "colab": {
          "base_uri": "https://localhost:8080/",
          "height": 69
        },
        "outputId": "7addcc72-e1ac-41c1-d566-29efa1d1837e"
      },
      "source": [
        "total = 0\n",
        "correct = 0\n",
        "wrong = 0\n",
        "\n",
        "for i in range(len(y_predict)):\n",
        "  total = total + 1\n",
        "\n",
        "  if (y_test.at[i, 0] == y_predict[i]):\n",
        "    correct = correct + 1\n",
        "  else:\n",
        "    wrong = wrong + 1\n",
        "\n",
        "print(\"Total \" + str(total))\n",
        "print(\"Correct \" + str(correct))\n",
        "print(\"Wrong \" + str(wrong))\n"
      ],
      "execution_count": null,
      "outputs": [
        {
          "output_type": "stream",
          "text": [
            "Total 114\n",
            "Correct 113\n",
            "Wrong 1\n"
          ],
          "name": "stdout"
        }
      ]
    },
    {
      "cell_type": "code",
      "metadata": {
        "id": "prrgxBix-GLe",
        "colab_type": "code",
        "colab": {}
      },
      "source": [
        ""
      ],
      "execution_count": null,
      "outputs": []
    }
  ]
}